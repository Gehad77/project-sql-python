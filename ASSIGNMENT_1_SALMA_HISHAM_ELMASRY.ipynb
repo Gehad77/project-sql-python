{
 "cells": [
  {
   "cell_type": "markdown",
   "metadata": {},
   "source": [
    "### Write a function to count the number 4 in a given list."
   ]
  },
  {
   "cell_type": "code",
   "execution_count": 19,
   "metadata": {},
   "outputs": [],
   "source": [
    "def count_number_4(lst):\n",
    "    count = 0 # Initialize a variable to count the number of 4s.\n",
    "    for number in lst: # Iterate through the list of numbers.\n",
    "        if number == 4: # Check if the current number is equal to 4.\n",
    "            count += 1  # If it is, increment the counter.\n",
    "    return count\n",
    "  # Return the number of 4s.\n"
   ]
  },
  {
   "cell_type": "markdown",
   "metadata": {},
   "source": [
    "##### TEST"
   ]
  },
  {
   "cell_type": "code",
   "execution_count": 7,
   "metadata": {},
   "outputs": [
    {
     "name": "stdout",
     "output_type": "stream",
     "text": [
      "Number of 4s in the list: 4\n"
     ]
    }
   ],
   "source": [
    "my_list = [1, 4, 4, 2, 3, 4, 5, 4, 6]\n",
    "result = count_number_4(my_list)\n",
    "print(\"Number of 4s in the list:\", result)"
   ]
  },
  {
   "cell_type": "markdown",
   "metadata": {},
   "source": [
    "### write a  function to check whether a number is divisible by another number."
   ]
  },
  {
   "cell_type": "code",
   "execution_count": 8,
   "metadata": {},
   "outputs": [],
   "source": [
    "def is_divisible(number, divisor):\n",
    "  # Check if the remainder of the division is 0.\n",
    "  remainder = number % divisor\n",
    "\n",
    "  # If the remainder is 0, the number is divisible by the divisor.\n",
    "  if remainder == 0:\n",
    "    return True\n",
    "  else:\n",
    "    return False\n"
   ]
  },
  {
   "cell_type": "markdown",
   "metadata": {},
   "source": [
    "##### TEST"
   ]
  },
  {
   "cell_type": "code",
   "execution_count": 9,
   "metadata": {},
   "outputs": [
    {
     "name": "stdout",
     "output_type": "stream",
     "text": [
      "12 is divisible by 4.\n"
     ]
    }
   ],
   "source": [
    "num = 12\n",
    "divisor = 4\n",
    "\n",
    "if is_divisible(num, divisor):\n",
    "    print(f\"{num} is divisible by {divisor}.\")\n",
    "else:\n",
    "    print(f\"{num} is not divisible by {divisor}.\")"
   ]
  },
  {
   "cell_type": "markdown",
   "metadata": {},
   "source": [
    "### write a function to find the maximum and minimum numbers from a sequence of numbers."
   ]
  },
  {
   "cell_type": "code",
   "execution_count": 10,
   "metadata": {},
   "outputs": [],
   "source": [
    "def find_max_min(numbers):\n",
    "\n",
    "  # Initialize the maximum and minimum numbers.\n",
    "  max_number = numbers[0]\n",
    "  min_number = numbers[0]\n",
    "\n",
    "  # Iterate through the sequence of numbers.\n",
    "  for number in numbers:\n",
    "\n",
    "    # Check if the current number is greater than the maximum number.\n",
    "    if number > max_number:\n",
    "      max_number = number\n",
    "\n",
    "    # Check if the current number is less than the minimum number.\n",
    "    if number < min_number:\n",
    "      min_number = number\n",
    "\n",
    "  # Return the maximum and minimum numbers.\n",
    "  return max_number, min_number"
   ]
  },
  {
   "cell_type": "markdown",
   "metadata": {},
   "source": [
    "##### TEST"
   ]
  },
  {
   "cell_type": "code",
   "execution_count": 11,
   "metadata": {},
   "outputs": [
    {
     "name": "stdout",
     "output_type": "stream",
     "text": [
      "Maximum number: 87\n",
      "Minimum number: 5\n"
     ]
    }
   ],
   "source": [
    "numbers_list = [23, 10, 5, 87, 42, 6]\n",
    "max_num, min_num = find_max_min(numbers_list)\n",
    "print(\"Maximum number:\", max_num)\n",
    "print(\"Minimum number:\", min_num)"
   ]
  },
  {
   "cell_type": "markdown",
   "metadata": {},
   "source": [
    "### Write a Python function that takes two lists and returns True if they have at least one common member."
   ]
  },
  {
   "cell_type": "code",
   "execution_count": 12,
   "metadata": {},
   "outputs": [],
   "source": [
    "def has_common_member(list1, list2):\n",
    "\n",
    "  # Iterate through the first list.\n",
    "  for item in list1:\n",
    "\n",
    "    # Check if the item is in the second list.\n",
    "    if item in list2:\n",
    "      return True\n",
    "\n",
    "  # If we reach this point, the two lists do not have any common members.\n",
    "  return False"
   ]
  },
  {
   "cell_type": "markdown",
   "metadata": {},
   "source": [
    "##### TEST"
   ]
  },
  {
   "cell_type": "code",
   "execution_count": 13,
   "metadata": {},
   "outputs": [
    {
     "name": "stdout",
     "output_type": "stream",
     "text": [
      "The two lists have common elements.\n"
     ]
    }
   ],
   "source": [
    "\n",
    "list1 = [1, 2, 3, 4, 5]\n",
    "list2 = [5, 6, 7, 8, 9]\n",
    "result = has_common_member(list1, list2)\n",
    "\n",
    "if result:\n",
    "    print(\"The two lists have common elements.\")\n",
    "else:\n",
    "    print(\"The two lists do not have common elements.\")"
   ]
  },
  {
   "cell_type": "markdown",
   "metadata": {},
   "source": [
    "### Write a Python function to calculate the factorial of a number (a non-negative integer). The function accepts the number from the user"
   ]
  },
  {
   "cell_type": "code",
   "execution_count": 14,
   "metadata": {},
   "outputs": [],
   "source": [
    "def factorial(number):\n",
    "\n",
    "  # Check if the number is negative.\n",
    "  if number < 0:\n",
    "    raise ValueError(\"The number must be non-negative.\")\n",
    "\n",
    "  # Initialize the factorial.\n",
    "  factorial = 1\n",
    "\n",
    "  # Iterate through the numbers from 1 to the input number.\n",
    "  for i in range(1, number + 1):\n",
    "\n",
    "    # Multiply the factorial by the current number.\n",
    "    factorial *= i\n",
    "\n",
    "  # Return the factorial.\n",
    "  return factorial"
   ]
  },
  {
   "cell_type": "markdown",
   "metadata": {},
   "source": [
    "##### TEST"
   ]
  },
  {
   "cell_type": "code",
   "execution_count": 15,
   "metadata": {},
   "outputs": [
    {
     "name": "stdout",
     "output_type": "stream",
     "text": [
      "The factorial of 5 is: 120\n"
     ]
    }
   ],
   "source": [
    "num = 5\n",
    "result = factorial(num)\n",
    "print(f\"The factorial of {num} is: {result}\")"
   ]
  },
  {
   "cell_type": "markdown",
   "metadata": {},
   "source": [
    "### Write a Python function to check whether a number is in a given range.\n",
    "\n",
    "### The range is from 3 to 11\n"
   ]
  },
  {
   "cell_type": "code",
   "execution_count": 16,
   "metadata": {},
   "outputs": [],
   "source": [
    "def is_in_range(number, lower_bound, upper_bound):\n",
    "\n",
    "  # Check if the number is within the range.\n",
    "  if number >= lower_bound and number <= upper_bound:\n",
    "    return True\n",
    "  else:\n",
    "    return False"
   ]
  },
  {
   "cell_type": "markdown",
   "metadata": {},
   "source": [
    "##### TEST"
   ]
  },
  {
   "cell_type": "code",
   "execution_count": 17,
   "metadata": {},
   "outputs": [
    {
     "name": "stdout",
     "output_type": "stream",
     "text": [
      "10 is within the range [5, 20].\n"
     ]
    }
   ],
   "source": [
    "num = 10\n",
    "lower_bound = 5\n",
    "upper_bound = 20\n",
    "result = is_in_range(num, lower_bound, upper_bound)\n",
    "\n",
    "if result:\n",
    "    print(f\"{num} is within the range [{lower_bound}, {upper_bound}].\")\n",
    "else:\n",
    "    print(f\"{num} is outside the range [{lower_bound}, {upper_bound}].\")\n",
    "    "
   ]
  },
  {
   "cell_type": "markdown",
   "metadata": {},
   "source": [
    "### Write a  program to create the multiplication table (from 1 to 10) of a number."
   ]
  },
  {
   "cell_type": "code",
   "execution_count": 21,
   "metadata": {},
   "outputs": [
    {
     "name": "stdout",
     "output_type": "stream",
     "text": [
      "Enter a number from 1 to 10: 6\n",
      "6 x 1 = 6\n",
      "6 x 2 = 12\n",
      "6 x 3 = 18\n",
      "6 x 4 = 24\n",
      "6 x 5 = 30\n",
      "6 x 6 = 36\n",
      "6 x 7 = 42\n",
      "6 x 8 = 48\n",
      "6 x 9 = 54\n",
      "6 x 10 = 60\n",
      "\n"
     ]
    }
   ],
   "source": [
    "def multiplication_table(number):\n",
    "  # Initialize the string.\n",
    "  table = \"\"\n",
    "\n",
    "  # Iterate through the numbers from 1 to 10.\n",
    "  for i in range(1, 11):\n",
    "\n",
    "    # Add the current number and its product with the input number to the string.\n",
    "    table += f\"{number} x {i} = {number * i}\\n\"\n",
    "\n",
    "  # Return the string.\n",
    "  return table\n",
    "\n",
    "\n",
    "if __name__ == \"__main__\":\n",
    "  # Get the number from the user.\n",
    "  number = int(input(\"Enter a number from 1 to 10: \"))\n",
    "\n",
    "  # Print the multiplication table.\n",
    "  print(multiplication_table(number))"
   ]
  },
  {
   "cell_type": "markdown",
   "metadata": {},
   "source": [
    "### Good Job!"
   ]
  }
 ],
 "metadata": {
  "kernelspec": {
   "display_name": "Python 3 (ipykernel)",
   "language": "python",
   "name": "python3"
  },
  "language_info": {
   "codemirror_mode": {
    "name": "ipython",
    "version": 3
   },
   "file_extension": ".py",
   "mimetype": "text/x-python",
   "name": "python",
   "nbconvert_exporter": "python",
   "pygments_lexer": "ipython3",
   "version": "3.9.12"
  }
 },
 "nbformat": 4,
 "nbformat_minor": 2
}
